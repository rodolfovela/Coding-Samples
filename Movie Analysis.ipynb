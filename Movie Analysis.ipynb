{
 "cells": [
  {
   "cell_type": "markdown",
   "id": "21685c5b",
   "metadata": {},
   "source": [
    "# Importing the packages and data"
   ]
  },
  {
   "cell_type": "code",
   "execution_count": null,
   "id": "88d19f7b",
   "metadata": {
    "cell_style": "center"
   },
   "outputs": [],
   "source": [
    "import pandas as pd\n",
    "import matplotlib.pyplot as plt\n",
    "import seaborn as sns\n",
    "import numpy as np\n",
    "\n",
    "\n",
    "data_types = {'release_year': str,\n",
    "              'gross_earnings': float,\n",
    "              'budget': float}\n",
    "\n",
    "file = '/Users/pedro_andrade/Desktop/Intro to Python/movies_unlocked.xlsx'\n",
    "\n",
    "df = pd.read_excel ( io = file,\n",
    "                     sheet_name = 0,\n",
    "                     dtype = data_types,\n",
    "                     header = 0)\n",
    "print(df.info())\n",
    "\n",
    "df.head()"
   ]
  },
  {
   "cell_type": "code",
   "execution_count": null,
   "id": "32692a0a",
   "metadata": {
    "cell_style": "split"
   },
   "outputs": [],
   "source": [
    "# Applying the heurestic rule on the dataset\n",
    "\n",
    "heuristic_rule = 9 / 1677 * 100\n",
    "rounded_rule = round(heuristic_rule, ndigits = 2)\n",
    "\n",
    "print('-'*40)\n",
    "\n",
    "print(df.isnull().sum(axis = 0))\n",
    "\n",
    "print('-' * 40, '\\n')\n",
    "\n",
    "\n",
    "print(f\"\"\"The heuristic rules applies in this case because the missing\n",
    "values represent only {rounded_rule}% of the observations!\"\"\")\n"
   ]
  },
  {
   "cell_type": "code",
   "execution_count": null,
   "id": "1324ee16",
   "metadata": {
    "cell_style": "split"
   },
   "outputs": [],
   "source": [
    "# Dropping missing values\n",
    "df_dropped = df.dropna()\n",
    "\n",
    "# Printing the results\n",
    "print(df_dropped.isnull().sum())"
   ]
  },
  {
   "cell_type": "markdown",
   "id": "c2438ab9",
   "metadata": {},
   "source": [
    "# Descriptive Statistics of all movies"
   ]
  },
  {
   "cell_type": "code",
   "execution_count": null,
   "id": "60d7d235",
   "metadata": {},
   "outputs": [],
   "source": [
    "# descriptive statistics\n",
    "df_dropped.describe(include = 'number').round(decimals = 2)"
   ]
  },
  {
   "cell_type": "markdown",
   "id": "8549e23a",
   "metadata": {},
   "source": [
    "# Distribution of Movies"
   ]
  },
  {
   "cell_type": "code",
   "execution_count": null,
   "id": "6b75f7f0",
   "metadata": {
    "cell_style": "split",
    "deletable": false,
    "editable": false
   },
   "outputs": [],
   "source": [
    "# Average User Rating Distribution\n",
    "\n",
    "fig, ax = plt.subplots(figsize = (8 ,8))\n",
    "\n",
    "sns.histplot(data = df_dropped,\n",
    "             x = 'average_user_rating',\n",
    "             bins = 'fd',\n",
    "             kde = True,\n",
    "             color = 'black')\n",
    "\n",
    "# title and labels\n",
    "plt.title(\"\"\"Distribution of movies by \n",
    "Average User Rating\"\"\")\n",
    "plt.xlabel(\"Average User Rating\")\n",
    "plt.ylabel(\"# Movies\")\n",
    "\n",
    "# adding mean and median (vertical lines)\n",
    "plt.axvline (x = df_dropped['average_user_rating'].mean(),\n",
    "             color = 'red')\n",
    "plt.axvline (x = df_dropped['average_user_rating'].median(),\n",
    "             color = 'blue')\n",
    "\n",
    "plt.legend (labels = ['mean','median'])\n",
    "\n",
    "plt.show()"
   ]
  },
  {
   "cell_type": "code",
   "execution_count": null,
   "id": "b0b73975",
   "metadata": {
    "cell_style": "split",
    "deletable": false,
    "editable": false
   },
   "outputs": [],
   "source": [
    "# IMDB Score Distribution\n",
    "\n",
    "fig, ax = plt.subplots(figsize = (8 ,8))\n",
    "\n",
    "sns.histplot(data = df_dropped,\n",
    "             x = 'imdb_score',\n",
    "             bins = 'fd',\n",
    "             kde = True,\n",
    "             color = 'green')\n",
    "\n",
    "# title and labels\n",
    "plt.title(\"Distribution of movies by IMDB Score\\n\")\n",
    "plt.xlabel(\"IMDB Score\")\n",
    "plt.ylabel(\"# Movies\")\n",
    "\n",
    "# adding mean and median (vertical lines)\n",
    "plt.axvline (x = df_dropped['imdb_score'].mean(),\n",
    "             color = 'red')\n",
    "plt.axvline (x = df_dropped['imdb_score'].median(),\n",
    "             color = 'blue')\n",
    "\n",
    "plt.legend (labels = ['mean','median'])\n",
    "\n",
    "plt.show()\n"
   ]
  },
  {
   "cell_type": "markdown",
   "id": "678887e1",
   "metadata": {},
   "source": [
    "# Correlation Matrix"
   ]
  },
  {
   "cell_type": "code",
   "execution_count": null,
   "id": "ef7c6026",
   "metadata": {
    "deletable": false,
    "editable": false
   },
   "outputs": [],
   "source": [
    "data_corr = df_dropped.corr(method = 'pearson').round(decimals = 2)\n",
    "\n",
    "fig, ax = plt.subplots(figsize = (8 ,8))\n",
    "\n",
    "sns.heatmap( data = data_corr,\n",
    "             cmap = 'Blues',\n",
    "             square = True,\n",
    "             annot = True,\n",
    "             linecolor = 'black',\n",
    "             linewidth = 0.5)\n",
    "\n",
    "plt.title(label = 'Correlation of the Movies dataset\\n')\n",
    "\n",
    "plt.show()"
   ]
  },
  {
   "cell_type": "code",
   "execution_count": null,
   "id": "356a1440",
   "metadata": {
    "deletable": false,
    "editable": false
   },
   "outputs": [],
   "source": [
    "help(sns.lmplot)"
   ]
  },
  {
   "cell_type": "code",
   "execution_count": null,
   "id": "dfd3709a",
   "metadata": {},
   "outputs": [],
   "source": [
    "# Scatter plot of IMDB score and AVG_User_rating\n",
    "\n",
    "sns.lmplot ( x = 'imdb_score',\n",
    "             y = 'average_user_rating',\n",
    "             hue        = None,\n",
    "             scatter    = True, \n",
    "             fit_reg    = True, \n",
    "             aspect     = 3, \n",
    "             data       = df_dropped)\n",
    "\n",
    "plt.title(label  = 'IMDB and Average User Rating\\n')\n",
    "plt.xlabel(xlabel = 'IMDB Score')\n",
    "plt.ylabel(ylabel = 'Average User Rating')\n",
    "plt.xlim(left   = 0, right = 10)\n",
    "plt.tight_layout(pad    = 1)\n",
    "\n",
    "#Showing the plot\n",
    "plt.show(block  = True)\n"
   ]
  },
  {
   "cell_type": "code",
   "execution_count": null,
   "id": "bef1bfb4",
   "metadata": {},
   "outputs": [],
   "source": [
    "# Scatter plot of Gross Earnings and Number of User Votes\n",
    "\n",
    "sns.lmplot ( x = 'num_user_votes',\n",
    "             y = 'gross_earnings',\n",
    "             hue        = None,\n",
    "             scatter    = True, \n",
    "             fit_reg    = True, \n",
    "             aspect     = 3, \n",
    "             data       = df_dropped)\n",
    "\n",
    "plt.title(label  = 'Gross Earnings and Number of User Votes\\n')\n",
    "plt.xlabel(xlabel = 'Number of User Votes')\n",
    "plt.ylabel(ylabel = 'Gross Earnings')\n",
    "\n",
    "plt.tight_layout(pad    = 1)\n",
    "\n",
    "#Showing the plot\n",
    "plt.show(block  = True)\n"
   ]
  },
  {
   "cell_type": "markdown",
   "id": "b4001cca",
   "metadata": {},
   "source": [
    "# Descriptive Statistics of Sports Movies"
   ]
  },
  {
   "cell_type": "code",
   "execution_count": null,
   "id": "2f9144ab",
   "metadata": {
    "deletable": false,
    "editable": false
   },
   "outputs": [],
   "source": [
    "# There are only 10 movies inside the \"Sports\" genre.\n",
    "df_sports = df_dropped[df_dropped['genre'].str.contains('Sport')]\n",
    "df_sports"
   ]
  },
  {
   "cell_type": "code",
   "execution_count": null,
   "id": "64b7ece1",
   "metadata": {
    "cell_style": "center"
   },
   "outputs": [],
   "source": [
    "# Analyzing the descriptive of Sports\n",
    "df_sports.describe().round(decimals = 2)"
   ]
  },
  {
   "cell_type": "markdown",
   "id": "088f93ff",
   "metadata": {},
   "source": [
    "# Correlation Matrix - Sports"
   ]
  },
  {
   "cell_type": "code",
   "execution_count": null,
   "id": "4816f95a",
   "metadata": {},
   "outputs": [],
   "source": [
    "corr_sports = df_sports.corr(method = 'pearson').round(decimals = 2)\n",
    "\n",
    "fig, ax = plt.subplots(figsize = (8 ,8))\n",
    "\n",
    "sns.heatmap(data = corr_sports,\n",
    "            cmap = 'coolwarm',\n",
    "            square = True,\n",
    "            annot = True,\n",
    "            linecolor = 'red',\n",
    "            linewidth = 0.5)\n",
    "\n",
    "plt.title(label = 'Correlation of the Sports Movie\\n')\n",
    "\n",
    "\n",
    "plt.show()"
   ]
  },
  {
   "cell_type": "code",
   "execution_count": null,
   "id": "bed3f529",
   "metadata": {},
   "outputs": [],
   "source": [
    "# 4. Qualitative aspects: values? true stories? impact in real life?"
   ]
  },
  {
   "cell_type": "code",
   "execution_count": null,
   "id": "e23111ab",
   "metadata": {},
   "outputs": [],
   "source": [
    "help(sns.lmplot)"
   ]
  },
  {
   "cell_type": "markdown",
   "id": "9d7fdc61",
   "metadata": {},
   "source": [
    "# Analysis of Sports Movies Genre in comparison with Netflix movie Database"
   ]
  },
  {
   "cell_type": "markdown",
   "id": "9078e3ab",
   "metadata": {},
   "source": [
    "# Introduction\n",
    "\n",
    "Everyone loves a good story. Who does not like to listen to a friend's story about their lives, or an accomplishment? Specially in the USA, some of those accomplishments are often related to sports, in high school, college, or even professionally. The movie industry is certainly taking advantage of this, and producing amazing movies with a sports background that are getting the attention of the audience according to the Netflix database that is about to be presented. Are you ready to go deeper in this world?"
   ]
  },
  {
   "cell_type": "markdown",
   "id": "bc13736f",
   "metadata": {},
   "source": [
    "# Insights\n",
    "\n",
    "After a throughout analysis of the movie database and the Sport genre, three points caught my attention:\n",
    "1. The genre Sport generates more Gross Earnings, proportionally to their Budget, in comparison with all other movies.\n",
    "2. Sports movies have higher evaluation rates (IMDB and User Ratings).\n",
    "3. Real life stories - biographies related sports movies, have higher evaluation scores than other genres."
   ]
  },
  {
   "cell_type": "code",
   "execution_count": null,
   "id": "b3159207",
   "metadata": {
    "cell_style": "center"
   },
   "outputs": [],
   "source": [
    "#Insight 1 - Sports Movie generate more earnings per budget.\n",
    "\n",
    "avg_budget_sports = df_sports['budget'].mean()\n",
    "avg_budget_movies = round(df_dropped['budget'].mean(), ndigits = 2)\n",
    "avg_gross_earn_sports = df_sports['gross_earnings'].mean()\n",
    "avg_gross_earn_movies = round(df_dropped['gross_earnings'].mean(), ndigits = 2)\n",
    "\n",
    "gross_budget_ratio_sports = round(avg_gross_earn_sports / avg_budget_sports, ndigits = 2) # greater earnings\n",
    "gross_budget_ratio_movies = round(avg_gross_earn_movies / avg_budget_movies, ndigits = 2)\n",
    "\n",
    "print('-' * 40, '\\n')\n",
    "\n",
    "print(f\"\"\"The ratio between Gross Earnings and Budget for sports movies: {gross_budget_ratio_sports}\n",
    "The ratio between Gross Earnings and Budget for all movies: {gross_budget_ratio_movies}\n",
    "\"\"\")\n",
    "\n"
   ]
  },
  {
   "cell_type": "markdown",
   "id": "6d599bca",
   "metadata": {
    "cell_style": "center"
   },
   "source": [
    "# Insight #1 - Explanation\n",
    "\n",
    "It is interesting to notice that the genre sports have smaller budgets when compared to the average budget of all the other movies on Netflix. But that does not mean that sports movies do not make money in the end. In fact that is completely the opposite. The average gross earning of sports movies represents 66% more of their original budget! That means that for every dollar spent on the production of the movie, the movie generates $1.66 dollars in total revenue. The other movie genres only generates $1.04 per dollar spent, only 4% of their initial budget.\n",
    "\n",
    "We can definetely say that sports movies are much more cost efficient, generating more money per dollar spent that all the other movies. Sports genre are an interesting option to invest when deciding to produce a new movie!"
   ]
  },
  {
   "cell_type": "code",
   "execution_count": null,
   "id": "23699356",
   "metadata": {},
   "outputs": [],
   "source": [
    "# Insight 2\n",
    "\n",
    "avg_imdb_sports = df_sports['imdb_score'].mean()\n",
    "avg_avg_user_sports = df_sports['average_user_rating'].mean()\n",
    "avg_imdb_movies = round(df_dropped['imdb_score'].mean(), ndigits = 2)\n",
    "avg_user_movies = round(df_dropped['average_user_rating'].mean(), ndigits = 2)\n",
    "\n",
    "print('-' * 40, '\\n')\n",
    "\n",
    "print(f\"\"\"The average IMDB Score for sports movies: {avg_imdb_sports}\n",
    "The average IMDB Score for all movies: {avg_imdb_movies}\n",
    "\\n\"\"\")\n",
    "\n",
    "print('-' * 40, '\\n')\n",
    "\n",
    "print(f\"\"\"The average User Rating Score for sports movies: {avg_avg_user_sports}\n",
    "The average User Rating Score for all movies: {avg_user_movies}\n",
    "\\n\"\"\")\n"
   ]
  },
  {
   "cell_type": "markdown",
   "id": "0141286e",
   "metadata": {},
   "source": [
    "# Insight #2 and #3 - Explanation\n",
    "\n",
    "It is a trend and people are talking about them. Sports movies are becoming more and more popular and are part of the American society and culture. As Bonnet(2017) said, \"Nowadays, the belief in sports’ social role is still lasting: it is thought to bolster the teaching of and respect for values which are essential to Americanness, such as competitiveness, equal opportunities, or social mobility.\" \n",
    "\n",
    "Firestein (2007) defined: \"Sports are part of the very fabric of American life, discourse, and lexicon [...]. The centrality of sports in American life is amply reflected in contemporary American cinema, (with) films featuring virtually every major sport, from football, basketball, baseball, and hockey, to boxing, horse racing, and even surfing.\"\n",
    "\n",
    "These explain exactly why sports movies have higher scores, both at the IMDB website and User Ratings. When we look at the numbers, sports movie IMDB scores average 6.94 (out of 10) while the average of all movies is only 6.45. Users also evaluate sports movie better in average, rating 7.07, when the average of all movies is 6.41. \n",
    "\n",
    "Not only that. The numbers also confirm the preference for real-life stories, as the sports movies based on biographies have higher IMDB Score and User Ratings than the other sub-genres of sports and the average of all movies! For example the movie \"42\", a Biography/Sport movie released in 2013, in the US. The movie is about baseball player Jackie Robinson, who was the first black athlete to play in Major League Baseball in the modern era (late 19th and early 20th centuries). This by itself brings a lot of social themes to debate, especially in context that we are still battling racial issues in the 21st century, more than 70 years later.\n",
    "\n",
    "This movie has a rating of 7.5, both at IMDB and User Ratings, comparing to 6.94 (Sports IMDB average) and 7.07(User Rating Sports average). \n",
    "\n",
    "\n"
   ]
  },
  {
   "cell_type": "markdown",
   "id": "5bd03d4b",
   "metadata": {},
   "source": [
    "# References:\n",
    "    \n",
    "Firestein, D. J..“Fields of Dreams: American Sports Movies.” E journal USA, 12 (6), 2007, 9.\n",
    "\n",
    "Bonnet, V. \"Sport in Films: Symbolism versus Verismo. A France-United States Comparative Analysis\", InMedia [En ligne], 6 | 2017, mis en ligne le 18 décembre 2017, consulté le 01 juin 2022. URL : http://journals.openedition.org/inmedia/883 ; DOI : https://doi.org/10.4000/inmedia.883\n",
    "\n",
    "https://en.wikipedia.org/wiki/42_(film)"
   ]
  },
  {
   "cell_type": "code",
   "execution_count": null,
   "id": "8c937f38",
   "metadata": {},
   "outputs": [],
   "source": []
  }
 ],
 "metadata": {
  "kernelspec": {
   "display_name": "Python 3 (ipykernel)",
   "language": "python",
   "name": "python3"
  },
  "language_info": {
   "codemirror_mode": {
    "name": "ipython",
    "version": 3
   },
   "file_extension": ".py",
   "mimetype": "text/x-python",
   "name": "python",
   "nbconvert_exporter": "python",
   "pygments_lexer": "ipython3",
   "version": "3.9.12"
  },
  "toc": {
   "base_numbering": 1,
   "nav_menu": {},
   "number_sections": true,
   "sideBar": true,
   "skip_h1_title": false,
   "title_cell": "Table of Contents",
   "title_sidebar": "Contents",
   "toc_cell": false,
   "toc_position": {},
   "toc_section_display": true,
   "toc_window_display": false
  },
  "varInspector": {
   "cols": {
    "lenName": 16,
    "lenType": 16,
    "lenVar": 40
   },
   "kernels_config": {
    "python": {
     "delete_cmd_postfix": "",
     "delete_cmd_prefix": "del ",
     "library": "var_list.py",
     "varRefreshCmd": "print(var_dic_list())"
    },
    "r": {
     "delete_cmd_postfix": ") ",
     "delete_cmd_prefix": "rm(",
     "library": "var_list.r",
     "varRefreshCmd": "cat(var_dic_list()) "
    }
   },
   "types_to_exclude": [
    "module",
    "function",
    "builtin_function_or_method",
    "instance",
    "_Feature"
   ],
   "window_display": false
  }
 },
 "nbformat": 4,
 "nbformat_minor": 5
}
