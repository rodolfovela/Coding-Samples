{
 "cells": [
  {
   "cell_type": "markdown",
   "id": "6913b7cf",
   "metadata": {
    "deletable": false,
    "editable": false
   },
   "source": [
    "<hr style=\"height:.9px;border:none;color:#333;background-color:#333;\" />\n",
    "<hr style=\"height:.9px;border:none;color:#333;background-color:#333;\" />\n",
    "<br>\n",
    "<h1>Data Analysis Project</h1>\n",
    "<em>Introduction to Python Programming - DAT-5322 - BOS1</em><br>\n",
    "\n",
    "Written by Rodolfo Vela (Crime) <br>\n",
    "Hult International Business School <br>\n"
   ]
  },
  {
   "cell_type": "markdown",
   "id": "858cbdd9",
   "metadata": {
    "deletable": false,
    "editable": false
   },
   "source": [
    "## Data import & classification "
   ]
  },
  {
   "cell_type": "code",
   "execution_count": 8,
   "id": "36cf480c",
   "metadata": {
    "deletable": false,
    "editable": false
   },
   "outputs": [],
   "source": [
    "# importing packages\n",
    "import pandas            as pd\n",
    "import matplotlib.pyplot as plt\n",
    "import seaborn           as sns \n",
    "import numpy             as np"
   ]
  },
  {
   "cell_type": "code",
   "execution_count": 11,
   "id": "9fdc9786",
   "metadata": {
    "deletable": false,
    "editable": false
   },
   "outputs": [
    {
     "data": {
      "text/html": [
       "<div>\n",
       "<style scoped>\n",
       "    .dataframe tbody tr th:only-of-type {\n",
       "        vertical-align: middle;\n",
       "    }\n",
       "\n",
       "    .dataframe tbody tr th {\n",
       "        vertical-align: top;\n",
       "    }\n",
       "\n",
       "    .dataframe thead th {\n",
       "        text-align: right;\n",
       "    }\n",
       "</style>\n",
       "<table border=\"1\" class=\"dataframe\">\n",
       "  <thead>\n",
       "    <tr style=\"text-align: right;\">\n",
       "      <th></th>\n",
       "      <th>title</th>\n",
       "      <th>genre</th>\n",
       "      <th>release_year</th>\n",
       "      <th>country</th>\n",
       "      <th>runtime</th>\n",
       "      <th>language</th>\n",
       "      <th>rating</th>\n",
       "      <th>gross_earnings</th>\n",
       "      <th>budget</th>\n",
       "      <th>imdb_score</th>\n",
       "      <th>average_user_rating</th>\n",
       "      <th>num_user_votes</th>\n",
       "    </tr>\n",
       "  </thead>\n",
       "  <tbody>\n",
       "    <tr>\n",
       "      <th>0</th>\n",
       "      <td>The Broadway Melody</td>\n",
       "      <td>Musical, Romance</td>\n",
       "      <td>1929</td>\n",
       "      <td>USA</td>\n",
       "      <td>100</td>\n",
       "      <td>English</td>\n",
       "      <td>Passed</td>\n",
       "      <td>2808000</td>\n",
       "      <td>379000</td>\n",
       "      <td>6.3</td>\n",
       "      <td>5.7</td>\n",
       "      <td>6605.0</td>\n",
       "    </tr>\n",
       "    <tr>\n",
       "      <th>1</th>\n",
       "      <td>42nd Street</td>\n",
       "      <td>Comedy, Musical</td>\n",
       "      <td>1933</td>\n",
       "      <td>USA</td>\n",
       "      <td>89</td>\n",
       "      <td>English</td>\n",
       "      <td>Unrated</td>\n",
       "      <td>2300000</td>\n",
       "      <td>439000</td>\n",
       "      <td>7.7</td>\n",
       "      <td>7.4</td>\n",
       "      <td>10926.0</td>\n",
       "    </tr>\n",
       "    <tr>\n",
       "      <th>2</th>\n",
       "      <td>Top Hat</td>\n",
       "      <td>Comedy, Musical</td>\n",
       "      <td>1935</td>\n",
       "      <td>USA</td>\n",
       "      <td>81</td>\n",
       "      <td>English</td>\n",
       "      <td>Approved</td>\n",
       "      <td>3000000</td>\n",
       "      <td>609000</td>\n",
       "      <td>7.8</td>\n",
       "      <td>7.7</td>\n",
       "      <td>17671.0</td>\n",
       "    </tr>\n",
       "    <tr>\n",
       "      <th>3</th>\n",
       "      <td>Gone with the Wind</td>\n",
       "      <td>History, Romance</td>\n",
       "      <td>1939</td>\n",
       "      <td>USA</td>\n",
       "      <td>226</td>\n",
       "      <td>English</td>\n",
       "      <td>G</td>\n",
       "      <td>198655278</td>\n",
       "      <td>3977000</td>\n",
       "      <td>8.2</td>\n",
       "      <td>8.1</td>\n",
       "      <td>293433.0</td>\n",
       "    </tr>\n",
       "    <tr>\n",
       "      <th>4</th>\n",
       "      <td>The Best Years of Our Lives</td>\n",
       "      <td>Romance, War</td>\n",
       "      <td>1946</td>\n",
       "      <td>USA</td>\n",
       "      <td>172</td>\n",
       "      <td>English</td>\n",
       "      <td>Not Rated</td>\n",
       "      <td>23650000</td>\n",
       "      <td>2100000</td>\n",
       "      <td>8.1</td>\n",
       "      <td>8.0</td>\n",
       "      <td>57897.0</td>\n",
       "    </tr>\n",
       "  </tbody>\n",
       "</table>\n",
       "</div>"
      ],
      "text/plain": [
       "                         title             genre  release_year country  \\\n",
       "0          The Broadway Melody  Musical, Romance          1929     USA   \n",
       "1                  42nd Street   Comedy, Musical          1933     USA   \n",
       "2                      Top Hat   Comedy, Musical          1935     USA   \n",
       "3           Gone with the Wind  History, Romance          1939     USA   \n",
       "4  The Best Years of Our Lives      Romance, War          1946     USA   \n",
       "\n",
       "   runtime language     rating  gross_earnings   budget  imdb_score  \\\n",
       "0      100  English     Passed         2808000   379000         6.3   \n",
       "1       89  English    Unrated         2300000   439000         7.7   \n",
       "2       81  English   Approved         3000000   609000         7.8   \n",
       "3      226  English          G       198655278  3977000         8.2   \n",
       "4      172  English  Not Rated        23650000  2100000         8.1   \n",
       "\n",
       "   average_user_rating  num_user_votes  \n",
       "0                  5.7          6605.0  \n",
       "1                  7.4         10926.0  \n",
       "2                  7.7         17671.0  \n",
       "3                  8.1        293433.0  \n",
       "4                  8.0         57897.0  "
      ]
     },
     "execution_count": 11,
     "metadata": {},
     "output_type": "execute_result"
    }
   ],
   "source": [
    "# defining data types\n",
    "data_types = {'title'   : str,\n",
    "              'genre'   : str,\n",
    "              'country' : str,\n",
    "              'language': str,\n",
    "              'rating'  : str}\n",
    "\n",
    "# storing the path to the dataset\n",
    "file = \"movies_unlocked.xlsx\"\n",
    "\n",
    "# instantiating the dataset as an object\n",
    "movies_da = pd.read_excel(io         = file      ,   \n",
    "                          sheet_name = 0         , \n",
    "                          header     = 0         , \n",
    "                          dtype      = data_types) \n",
    "\n",
    "# showing data\n",
    "movies_da.head(n = 5)\n",
    "                                 \n"
   ]
  },
  {
   "cell_type": "markdown",
   "id": "21e50aab",
   "metadata": {
    "deletable": false,
    "editable": false
   },
   "source": [
    "After importing the data, we understand the composition of the data, and what variables we have."
   ]
  },
  {
   "cell_type": "markdown",
   "id": "fcd0bc02",
   "metadata": {},
   "source": [
    "   ## Descriptive Analysis"
   ]
  },
  {
   "cell_type": "code",
   "execution_count": 22,
   "id": "10834a7a",
   "metadata": {
    "deletable": false,
    "editable": false
   },
   "outputs": [
    {
     "data": {
      "text/html": [
       "<div>\n",
       "<style scoped>\n",
       "    .dataframe tbody tr th:only-of-type {\n",
       "        vertical-align: middle;\n",
       "    }\n",
       "\n",
       "    .dataframe tbody tr th {\n",
       "        vertical-align: top;\n",
       "    }\n",
       "\n",
       "    .dataframe thead th {\n",
       "        text-align: right;\n",
       "    }\n",
       "</style>\n",
       "<table border=\"1\" class=\"dataframe\">\n",
       "  <thead>\n",
       "    <tr style=\"text-align: right;\">\n",
       "      <th></th>\n",
       "      <th>release_year</th>\n",
       "      <th>runtime</th>\n",
       "      <th>gross_earnings</th>\n",
       "      <th>budget</th>\n",
       "      <th>imdb_score</th>\n",
       "      <th>average_user_rating</th>\n",
       "      <th>num_user_votes</th>\n",
       "    </tr>\n",
       "  </thead>\n",
       "  <tbody>\n",
       "    <tr>\n",
       "      <th>count</th>\n",
       "      <td>1677.00</td>\n",
       "      <td>1677.00</td>\n",
       "      <td>1.677000e+03</td>\n",
       "      <td>1.677000e+03</td>\n",
       "      <td>1677.00</td>\n",
       "      <td>1668.00</td>\n",
       "      <td>1668.00</td>\n",
       "    </tr>\n",
       "    <tr>\n",
       "      <th>mean</th>\n",
       "      <td>2003.28</td>\n",
       "      <td>109.77</td>\n",
       "      <td>5.133328e+07</td>\n",
       "      <td>4.917453e+07</td>\n",
       "      <td>6.45</td>\n",
       "      <td>6.41</td>\n",
       "      <td>121073.44</td>\n",
       "    </tr>\n",
       "    <tr>\n",
       "      <th>std</th>\n",
       "      <td>9.87</td>\n",
       "      <td>21.58</td>\n",
       "      <td>7.296471e+07</td>\n",
       "      <td>3.108044e+08</td>\n",
       "      <td>1.03</td>\n",
       "      <td>1.01</td>\n",
       "      <td>201492.96</td>\n",
       "    </tr>\n",
       "    <tr>\n",
       "      <th>min</th>\n",
       "      <td>1929.00</td>\n",
       "      <td>37.00</td>\n",
       "      <td>7.030000e+02</td>\n",
       "      <td>2.180000e+02</td>\n",
       "      <td>1.60</td>\n",
       "      <td>1.60</td>\n",
       "      <td>5.00</td>\n",
       "    </tr>\n",
       "    <tr>\n",
       "      <th>25%</th>\n",
       "      <td>1999.00</td>\n",
       "      <td>96.00</td>\n",
       "      <td>7.574066e+06</td>\n",
       "      <td>1.000000e+07</td>\n",
       "      <td>5.80</td>\n",
       "      <td>5.80</td>\n",
       "      <td>13222.50</td>\n",
       "    </tr>\n",
       "    <tr>\n",
       "      <th>50%</th>\n",
       "      <td>2005.00</td>\n",
       "      <td>106.00</td>\n",
       "      <td>2.754544e+07</td>\n",
       "      <td>2.500000e+07</td>\n",
       "      <td>6.50</td>\n",
       "      <td>6.50</td>\n",
       "      <td>52283.00</td>\n",
       "    </tr>\n",
       "    <tr>\n",
       "      <th>75%</th>\n",
       "      <td>2010.00</td>\n",
       "      <td>119.00</td>\n",
       "      <td>6.468536e+07</td>\n",
       "      <td>5.250000e+07</td>\n",
       "      <td>7.20</td>\n",
       "      <td>7.10</td>\n",
       "      <td>138269.75</td>\n",
       "    </tr>\n",
       "    <tr>\n",
       "      <th>max</th>\n",
       "      <td>2016.00</td>\n",
       "      <td>289.00</td>\n",
       "      <td>9.366274e+08</td>\n",
       "      <td>1.221550e+10</td>\n",
       "      <td>8.90</td>\n",
       "      <td>8.90</td>\n",
       "      <td>2100917.00</td>\n",
       "    </tr>\n",
       "  </tbody>\n",
       "</table>\n",
       "</div>"
      ],
      "text/plain": [
       "       release_year  runtime  gross_earnings        budget  imdb_score  \\\n",
       "count       1677.00  1677.00    1.677000e+03  1.677000e+03     1677.00   \n",
       "mean        2003.28   109.77    5.133328e+07  4.917453e+07        6.45   \n",
       "std            9.87    21.58    7.296471e+07  3.108044e+08        1.03   \n",
       "min         1929.00    37.00    7.030000e+02  2.180000e+02        1.60   \n",
       "25%         1999.00    96.00    7.574066e+06  1.000000e+07        5.80   \n",
       "50%         2005.00   106.00    2.754544e+07  2.500000e+07        6.50   \n",
       "75%         2010.00   119.00    6.468536e+07  5.250000e+07        7.20   \n",
       "max         2016.00   289.00    9.366274e+08  1.221550e+10        8.90   \n",
       "\n",
       "       average_user_rating  num_user_votes  \n",
       "count              1668.00         1668.00  \n",
       "mean                  6.41       121073.44  \n",
       "std                   1.01       201492.96  \n",
       "min                   1.60            5.00  \n",
       "25%                   5.80        13222.50  \n",
       "50%                   6.50        52283.00  \n",
       "75%                   7.10       138269.75  \n",
       "max                   8.90      2100917.00  "
      ]
     },
     "execution_count": 22,
     "metadata": {},
     "output_type": "execute_result"
    }
   ],
   "source": [
    "movies_da.describe(include = \"number\").round(decimals = 2)"
   ]
  },
  {
   "cell_type": "code",
   "execution_count": 23,
   "id": "1cf8ae06",
   "metadata": {
    "deletable": false,
    "editable": false
   },
   "outputs": [
    {
     "data": {
      "text/html": [
       "<div>\n",
       "<style scoped>\n",
       "    .dataframe tbody tr th:only-of-type {\n",
       "        vertical-align: middle;\n",
       "    }\n",
       "\n",
       "    .dataframe tbody tr th {\n",
       "        vertical-align: top;\n",
       "    }\n",
       "\n",
       "    .dataframe thead th {\n",
       "        text-align: right;\n",
       "    }\n",
       "</style>\n",
       "<table border=\"1\" class=\"dataframe\">\n",
       "  <thead>\n",
       "    <tr style=\"text-align: right;\">\n",
       "      <th></th>\n",
       "      <th>title</th>\n",
       "      <th>genre</th>\n",
       "      <th>country</th>\n",
       "      <th>language</th>\n",
       "      <th>rating</th>\n",
       "    </tr>\n",
       "  </thead>\n",
       "  <tbody>\n",
       "    <tr>\n",
       "      <th>count</th>\n",
       "      <td>1677</td>\n",
       "      <td>1677</td>\n",
       "      <td>1677</td>\n",
       "      <td>1677</td>\n",
       "      <td>1677</td>\n",
       "    </tr>\n",
       "    <tr>\n",
       "      <th>unique</th>\n",
       "      <td>1677</td>\n",
       "      <td>93</td>\n",
       "      <td>32</td>\n",
       "      <td>20</td>\n",
       "      <td>10</td>\n",
       "    </tr>\n",
       "    <tr>\n",
       "      <th>top</th>\n",
       "      <td>The Broadway Melody</td>\n",
       "      <td>Comedy, Romance</td>\n",
       "      <td>USA</td>\n",
       "      <td>English</td>\n",
       "      <td>R</td>\n",
       "    </tr>\n",
       "    <tr>\n",
       "      <th>freq</th>\n",
       "      <td>1</td>\n",
       "      <td>205</td>\n",
       "      <td>1320</td>\n",
       "      <td>1609</td>\n",
       "      <td>778</td>\n",
       "    </tr>\n",
       "  </tbody>\n",
       "</table>\n",
       "</div>"
      ],
      "text/plain": [
       "                      title            genre country language rating\n",
       "count                  1677             1677    1677     1677   1677\n",
       "unique                 1677               93      32       20     10\n",
       "top     The Broadway Melody  Comedy, Romance     USA  English      R\n",
       "freq                      1              205    1320     1609    778"
      ]
     },
     "execution_count": 23,
     "metadata": {},
     "output_type": "execute_result"
    }
   ],
   "source": [
    "movies_da.describe(include = \"object\").round(decimals = 2)"
   ]
  },
  {
   "cell_type": "markdown",
   "id": "edfe012c",
   "metadata": {
    "deletable": false,
    "editable": false
   },
   "source": [
    "After using the describe method, we can have a general idea of the distribution of our variables and how to address the analysis."
   ]
  },
  {
   "cell_type": "code",
   "execution_count": 24,
   "id": "771b761a",
   "metadata": {
    "deletable": false,
    "editable": false
   },
   "outputs": [
    {
     "data": {
      "text/plain": [
       "title                  False\n",
       "genre                  False\n",
       "release_year           False\n",
       "country                False\n",
       "runtime                False\n",
       "language               False\n",
       "rating                 False\n",
       "gross_earnings         False\n",
       "budget                 False\n",
       "imdb_score             False\n",
       "average_user_rating     True\n",
       "num_user_votes          True\n",
       "dtype: bool"
      ]
     },
     "execution_count": 24,
     "metadata": {},
     "output_type": "execute_result"
    }
   ],
   "source": [
    "#identifying variables that have missing values. \n",
    "movies_da.isnull().any()"
   ]
  },
  {
   "cell_type": "code",
   "execution_count": 25,
   "id": "3773f4ca",
   "metadata": {
    "deletable": false,
    "editable": false,
    "scrolled": true
   },
   "outputs": [
    {
     "data": {
      "text/plain": [
       "title                  0\n",
       "genre                  0\n",
       "release_year           0\n",
       "country                0\n",
       "runtime                0\n",
       "language               0\n",
       "rating                 0\n",
       "gross_earnings         0\n",
       "budget                 0\n",
       "imdb_score             0\n",
       "average_user_rating    9\n",
       "num_user_votes         9\n",
       "dtype: int64"
      ]
     },
     "execution_count": 25,
     "metadata": {},
     "output_type": "execute_result"
    }
   ],
   "source": [
    "# how many missing values does each variable have. \n",
    "movies_da.isnull().sum(axis= 0)"
   ]
  },
  {
   "cell_type": "code",
   "execution_count": 28,
   "id": "acca4268",
   "metadata": {
    "deletable": false,
    "editable": false
   },
   "outputs": [
    {
     "name": "stdout",
     "output_type": "stream",
     "text": [
      "title                  0\n",
      "genre                  0\n",
      "release_year           0\n",
      "country                0\n",
      "runtime                0\n",
      "language               0\n",
      "rating                 0\n",
      "gross_earnings         0\n",
      "budget                 0\n",
      "imdb_score             0\n",
      "average_user_rating    0\n",
      "num_user_votes         0\n",
      "dtype: int64\n"
     ]
    }
   ],
   "source": [
    "# dropping missing values\n",
    "movies_da_dropped = movies_da.dropna()\n",
    "\n",
    "# printing the results\n",
    "print(movies_da_dropped.isnull().sum())"
   ]
  },
  {
   "cell_type": "markdown",
   "id": "b0a68671",
   "metadata": {
    "deletable": false,
    "editable": false
   },
   "source": [
    "The null values has been eliminated to avoid discrepancies in the analysis. "
   ]
  },
  {
   "cell_type": "markdown",
   "id": "6ad44f9f",
   "metadata": {},
   "source": [
    "# Variables Analysis"
   ]
  },
  {
   "cell_type": "code",
   "execution_count": 192,
   "id": "22b1473c",
   "metadata": {
    "deletable": false,
    "editable": false
   },
   "outputs": [
    {
     "data": {
      "image/png": "[encoded data removed]",
      "text/plain": [
       "<Figure size 576x576 with 1 Axes>"
      ]
     },
     "metadata": {
      "needs_background": "light"
     },
     "output_type": "display_data"
    }
   ],
   "source": [
    "# calculating IMDB Score Distribution\n",
    "\n",
    "fig, ax = plt.subplots(figsize = (8 ,8))\n",
    "\n",
    "sns.histplot(data  = movies_da_dropped,\n",
    "             x     = 'imdb_score'     ,\n",
    "             bins  = 'fd'             ,\n",
    "             kde   = True             ,\n",
    "             color = 'Grey'          )\n",
    "\n",
    "# title and labels\n",
    "plt.title (\"\"\"Distribution of movies by IMDB Score\"\"\")\n",
    "plt.xlabel(\"imdb score\")\n",
    "plt.ylabel(\"# Movies\")\n",
    "\n",
    "# adding mean and median (vertical lines)\n",
    "plt.axvline (x = movies_da_dropped['imdb_score'].mean(),\n",
    "             color = 'red')\n",
    "plt.axvline (x = movies_da_dropped['imdb_score'].median(),\n",
    "             color = 'blue')\n",
    "\n",
    "plt.legend (labels = ['mean','median'])\n",
    "\n",
    "plt.show()"
   ]
  },
  {
   "cell_type": "code",
   "execution_count": 147,
   "id": "c937263d",
   "metadata": {
    "deletable": false,
    "editable": false
   },
   "outputs": [
    {
     "data": {
      "text/plain": [
       "6.4479016786570735"
      ]
     },
     "execution_count": 147,
     "metadata": {},
     "output_type": "execute_result"
    }
   ],
   "source": [
    "movies_da_dropped['imdb_score'].mean()"
   ]
  },
  {
   "cell_type": "code",
   "execution_count": 148,
   "id": "5534bd81",
   "metadata": {
    "deletable": false,
    "editable": false
   },
   "outputs": [
    {
     "data": {
      "text/plain": [
       "6.5"
      ]
     },
     "execution_count": 148,
     "metadata": {},
     "output_type": "execute_result"
    }
   ],
   "source": [
    "movies_da_dropped['imdb_score'].median()"
   ]
  },
  {
   "cell_type": "code",
   "execution_count": 155,
   "id": "e80bf33f",
   "metadata": {
    "deletable": false,
    "editable": false
   },
   "outputs": [
    {
     "data": {
      "text/plain": [
       "6.7    86\n",
       "6.6    85\n",
       "6.4    68\n",
       "6.5    65\n",
       "6.8    65\n",
       "       ..\n",
       "1.9     1\n",
       "2.5     1\n",
       "3.0     1\n",
       "8.9     1\n",
       "1.6     1\n",
       "Name: imdb_score, Length: 64, dtype: int64"
      ]
     },
     "execution_count": 155,
     "metadata": {},
     "output_type": "execute_result"
    }
   ],
   "source": [
    "movies_da_dropped['imdb_score'].value_counts(normalize = False , \n",
    "                                             sort      = True  , \n",
    "                                             ascending = False )"
   ]
  },
  {
   "cell_type": "markdown",
   "id": "040f2839",
   "metadata": {
    "deletable": false,
    "editable": false
   },
   "source": [
    "IMDb ratings are based on the votes of the website's users, with a little bit of mathematical re-jigging to stop certain groups disproportionately influencing the vote.\n",
    "It's a very common metric among users to decide how do they like a movie, and its used afterwards as a indicative for future watchers. \n",
    "In this case, we can observe a very normalized distribution with the mean and the median very close to each other (6.5 score).\n",
    "IMDB ratings are important to the common movie consumer."
   ]
  },
  {
   "cell_type": "code",
   "execution_count": 193,
   "id": "2cfea12e",
   "metadata": {
    "code_folding": [],
    "deletable": false,
    "editable": false
   },
   "outputs": [
    {
     "data": {
      "image/png": "[encoded data removed]",
      "text/plain": [
       "<Figure size 576x576 with 1 Axes>"
      ]
     },
     "metadata": {
      "needs_background": "light"
     },
     "output_type": "display_data"
    }
   ],
   "source": [
    "# Gross_Earnings Distribution\n",
    "\n",
    "fig, ax = plt.subplots(figsize = (8 ,8))\n",
    "\n",
    "sns.histplot(data  = movies_da       ,\n",
    "             x     = 'gross_earnings',\n",
    "             bins  = 'fd'            ,\n",
    "             kde   = True            ,\n",
    "             color = 'Grey'         )\n",
    "\n",
    "# title and labels\n",
    "plt.title(\"\"\"Distribution of movies by \n",
    "Gross Earning\"\"\")\n",
    "plt.xlabel(\"Gross Earnings\")\n",
    "plt.ylabel(\"# Movies\")\n",
    "\n",
    "\n",
    "plt.show()"
   ]
  },
  {
   "cell_type": "code",
   "execution_count": 158,
   "id": "b706573b",
   "metadata": {
    "deletable": false,
    "editable": false
   },
   "outputs": [
    {
     "data": {
      "text/plain": [
       "count    1.668000e+03\n",
       "mean     5.131354e+07\n",
       "std      7.301856e+07\n",
       "min      7.030000e+02\n",
       "25%      7.571550e+06\n",
       "50%      2.760743e+07\n",
       "75%      6.451583e+07\n",
       "max      9.366274e+08\n",
       "Name: gross_earnings, dtype: float64"
      ]
     },
     "execution_count": 158,
     "metadata": {},
     "output_type": "execute_result"
    }
   ],
   "source": [
    "movies_da_dropped['gross_earnings'].describe()"
   ]
  },
  {
   "cell_type": "markdown",
   "id": "ceba213d",
   "metadata": {
    "deletable": false,
    "editable": false
   },
   "source": [
    "It can be observed that the Gross Earnings (a super important variable to measure profitability) is widely spread (not a normalized Distribution).\n",
    "Probably we can find a correlation with a different variable later on."
   ]
  },
  {
   "cell_type": "code",
   "execution_count": 142,
   "id": "74f3185d",
   "metadata": {
    "deletable": false,
    "editable": false
   },
   "outputs": [
    {
     "data": {
      "text/html": [
       "<div>\n",
       "<style scoped>\n",
       "    .dataframe tbody tr th:only-of-type {\n",
       "        vertical-align: middle;\n",
       "    }\n",
       "\n",
       "    .dataframe tbody tr th {\n",
       "        vertical-align: top;\n",
       "    }\n",
       "\n",
       "    .dataframe thead th {\n",
       "        text-align: right;\n",
       "    }\n",
       "</style>\n",
       "<table border=\"1\" class=\"dataframe\">\n",
       "  <thead>\n",
       "    <tr style=\"text-align: right;\">\n",
       "      <th></th>\n",
       "      <th>title</th>\n",
       "      <th>genre</th>\n",
       "      <th>release_year</th>\n",
       "      <th>country</th>\n",
       "      <th>runtime</th>\n",
       "      <th>language</th>\n",
       "      <th>rating</th>\n",
       "      <th>gross_earnings</th>\n",
       "      <th>budget</th>\n",
       "      <th>imdb_score</th>\n",
       "      <th>average_user_rating</th>\n",
       "      <th>num_user_votes</th>\n",
       "    </tr>\n",
       "  </thead>\n",
       "  <tbody>\n",
       "    <tr>\n",
       "      <th>0</th>\n",
       "      <td>The Broadway Melody</td>\n",
       "      <td>Others</td>\n",
       "      <td>1929</td>\n",
       "      <td>USA</td>\n",
       "      <td>100</td>\n",
       "      <td>English</td>\n",
       "      <td>Passed</td>\n",
       "      <td>2808000</td>\n",
       "      <td>379000</td>\n",
       "      <td>6.3</td>\n",
       "      <td>5.7</td>\n",
       "      <td>6605.0</td>\n",
       "    </tr>\n",
       "    <tr>\n",
       "      <th>1</th>\n",
       "      <td>42nd Street</td>\n",
       "      <td>Comedy</td>\n",
       "      <td>1933</td>\n",
       "      <td>USA</td>\n",
       "      <td>89</td>\n",
       "      <td>English</td>\n",
       "      <td>Unrated</td>\n",
       "      <td>2300000</td>\n",
       "      <td>439000</td>\n",
       "      <td>7.7</td>\n",
       "      <td>7.4</td>\n",
       "      <td>10926.0</td>\n",
       "    </tr>\n",
       "    <tr>\n",
       "      <th>2</th>\n",
       "      <td>Top Hat</td>\n",
       "      <td>Comedy</td>\n",
       "      <td>1935</td>\n",
       "      <td>USA</td>\n",
       "      <td>81</td>\n",
       "      <td>English</td>\n",
       "      <td>Approved</td>\n",
       "      <td>3000000</td>\n",
       "      <td>609000</td>\n",
       "      <td>7.8</td>\n",
       "      <td>7.7</td>\n",
       "      <td>17671.0</td>\n",
       "    </tr>\n",
       "    <tr>\n",
       "      <th>3</th>\n",
       "      <td>Gone with the Wind</td>\n",
       "      <td>Others</td>\n",
       "      <td>1939</td>\n",
       "      <td>USA</td>\n",
       "      <td>226</td>\n",
       "      <td>English</td>\n",
       "      <td>G</td>\n",
       "      <td>198655278</td>\n",
       "      <td>3977000</td>\n",
       "      <td>8.2</td>\n",
       "      <td>8.1</td>\n",
       "      <td>293433.0</td>\n",
       "    </tr>\n",
       "    <tr>\n",
       "      <th>4</th>\n",
       "      <td>The Best Years of Our Lives</td>\n",
       "      <td>Romance</td>\n",
       "      <td>1946</td>\n",
       "      <td>USA</td>\n",
       "      <td>172</td>\n",
       "      <td>English</td>\n",
       "      <td>Not Rated</td>\n",
       "      <td>23650000</td>\n",
       "      <td>2100000</td>\n",
       "      <td>8.1</td>\n",
       "      <td>8.0</td>\n",
       "      <td>57897.0</td>\n",
       "    </tr>\n",
       "  </tbody>\n",
       "</table>\n",
       "</div>"
      ],
      "text/plain": [
       "                         title    genre  release_year country  runtime  \\\n",
       "0          The Broadway Melody   Others          1929     USA      100   \n",
       "1                  42nd Street   Comedy          1933     USA       89   \n",
       "2                      Top Hat   Comedy          1935     USA       81   \n",
       "3           Gone with the Wind   Others          1939     USA      226   \n",
       "4  The Best Years of Our Lives  Romance          1946     USA      172   \n",
       "\n",
       "  language     rating  gross_earnings   budget  imdb_score  \\\n",
       "0  English     Passed         2808000   379000         6.3   \n",
       "1  English    Unrated         2300000   439000         7.7   \n",
       "2  English   Approved         3000000   609000         7.8   \n",
       "3  English          G       198655278  3977000         8.2   \n",
       "4  English  Not Rated        23650000  2100000         8.1   \n",
       "\n",
       "   average_user_rating  num_user_votes  \n",
       "0                  5.7          6605.0  \n",
       "1                  7.4         10926.0  \n",
       "2                  7.7         17671.0  \n",
       "3                  8.1        293433.0  \n",
       "4                  8.0         57897.0  "
      ]
     },
     "execution_count": 142,
     "metadata": {},
     "output_type": "execute_result"
    }
   ],
   "source": [
    "# creating a for loop to group Genres considering only one of them: 'the main' genre.\n",
    "\n",
    "for i, column in movies_da_dropped.iterrows():\n",
    "    # conditionals to create the new groups. \n",
    "    if \"Comedy,\"      in  movies_da_dropped.loc[i, 'genre']  or movies_da_dropped.loc[i, 'genre'] == \"Comedy\":\n",
    "        movies_da.loc[i, 'genre'] = \"Comedy\"\n",
    "        \n",
    "    elif \"Action,\"    in  movies_da_dropped.loc[i, 'genre']  or movies_da_dropped.loc[i, 'genre'] == \"Action\":\n",
    "        movies_da.loc[i, 'genre'] = \"Action\"\n",
    "        \n",
    "    elif \"Adventure,\" in  movies_da_dropped.loc[i, 'genre']  or movies_da_dropped.loc[i, 'genre'] == \"Adventure\":\n",
    "        movies_da.loc[i, 'genre'] = \"Adventure\"\n",
    "    \n",
    "    elif \"Crime,\"     in  movies_da_dropped.loc[i, 'genre']  or movies_da_dropped.loc[i, 'genre'] == \"Crime\":\n",
    "        movies_da.loc[i, 'genre'] = \"Crime\"\n",
    "    \n",
    "    elif \"Sci-Fi,\"    in  movies_da_dropped.loc[i, 'genre']  or movies_da_dropped.loc[i, 'genre'] == \"Sci-Fi\":\n",
    "        movies_da.loc[i, 'genre'] = \"Sci-Fi\"\n",
    "    \n",
    "    elif \"Sports,\"    in  movies_da_dropped.loc[i, 'genre']  or movies_da_dropped.loc[i, 'genre'] == \"Sports\":\n",
    "        movies_da.loc[i, 'genre'] = \"Sports\"\n",
    "    \n",
    "    elif \"Romance,\"   in  movies_da_dropped.loc[i, 'genre']  or movies_da_dropped.loc[i, 'genre'] == \"Romance\":\n",
    "        movies_da.loc[i, 'genre'] = \"Romance\"\n",
    "    \n",
    "    elif \"Animation,\" in  movies_da_dropped.loc[i, 'genre']  or movies_da_dropped.loc[i, 'genre'] == \"Animation\":\n",
    "        movies_da.loc[i, 'genre'] = \"Animation\"\n",
    "    \n",
    "    elif \"War,\"       in  movies_da_dropped.loc[i, 'genre']  or movies_da_dropped.loc[i, 'genre'] == \"War\":\n",
    "        movies_da.loc[i, 'genre'] = \"War\"\n",
    "\n",
    "\n",
    "    else:\n",
    "        movies_da_dropped.loc[i, 'genre'] = \"Others\"\n",
    "        \n",
    "movies_da.head(n = 5)"
   ]
  },
  {
   "cell_type": "markdown",
   "id": "009feab7",
   "metadata": {
    "deletable": false,
    "editable": false
   },
   "source": [
    "We have now a list with only one Genre per movie, assuming that the first one that is showed is the main one."
   ]
  },
  {
   "cell_type": "code",
   "execution_count": 184,
   "id": "6cea2abd",
   "metadata": {
    "deletable": false,
    "editable": false
   },
   "outputs": [
    {
     "data": {
      "text/plain": [
       "Action       0.307692\n",
       "Comedy       0.298748\n",
       "Others       0.223614\n",
       "Adventure    0.079308\n",
       "Crime        0.057841\n",
       "Romance      0.029815\n",
       "Sci-Fi       0.002385\n",
       "Animation    0.000596\n",
       "Name: genre, dtype: float64"
      ]
     },
     "execution_count": 184,
     "metadata": {},
     "output_type": "execute_result"
    }
   ],
   "source": [
    "# understanding how is splitted the movies by ''the main' genre.\n",
    "\n",
    "movies_da['genre'].value_counts(normalize = True , \n",
    "                                sort      = True  , \n",
    "                                ascending = False ) "
   ]
  },
  {
   "cell_type": "code",
   "execution_count": 190,
   "id": "4d25a665",
   "metadata": {
    "deletable": false,
    "editable": false
   },
   "outputs": [
    {
     "data": {
      "image/png": "[encoded data removed]",
      "text/plain": [
       "<Figure size 432x288 with 1 Axes>"
      ]
     },
     "metadata": {},
     "output_type": "display_data"
    }
   ],
   "source": [
    "# making 'x' a numerical variable.\n",
    "x = movies_da['genre'].value_counts(normalize = False , \n",
    "                                    sort      = True  , \n",
    "                                    ascending = False )\n",
    "\n",
    "# exploding 'Crime' to highlight the category.\n",
    "explode        = (0.1     , 0.1    , 0.1    , 0.1       , 0.5   , 0.1     , 0.1    , 0.1       )\n",
    "\n",
    "plt.pie(x      ,\n",
    "       labels  = ['Action','Comedy','Others','Adventure','Crime','Romance','Sci-Fi','Animation'],\n",
    "       explode = explode)\n",
    "\n",
    "plt.axis('equal')\n",
    "\n",
    "plt.show()"
   ]
  },
  {
   "cell_type": "markdown",
   "id": "863f8cba",
   "metadata": {
    "deletable": false,
    "editable": false
   },
   "source": [
    "We can read the big picture and the distribution of our data set, knowing which genres are the more important ones.\n",
    "We can start looking at crime, which represent almost 6% of the total amount of movies in the dataset."
   ]
  },
  {
   "cell_type": "code",
   "execution_count": 186,
   "id": "0cd07b69",
   "metadata": {
    "deletable": false,
    "editable": false
   },
   "outputs": [
    {
     "data": {
      "image/png": "[encoded data removed]",
      "text/plain": [
       "<Figure size 576x576 with 2 Axes>"
      ]
     },
     "metadata": {
      "needs_background": "light"
     },
     "output_type": "display_data"
    }
   ],
   "source": [
    "# understanding the correlation among the different variables on the dataset\n",
    "\n",
    "data_corr = movies_da_dropped.corr(method = 'pearson').round(decimals = 2)\n",
    "\n",
    "fig, ax = plt.subplots(figsize = (8 ,8))\n",
    "\n",
    "sns.heatmap( data      = data_corr,\n",
    "             cmap      = 'Greys'  ,\n",
    "             square    = True     ,\n",
    "             annot     = True     ,\n",
    "             linecolor = 'black'  ,\n",
    "             linewidth = 0.5      )\n",
    "\n",
    "plt.title(label = 'Correlation of the Movies dataset\\n')\n",
    "\n",
    "plt.show()"
   ]
  },
  {
   "cell_type": "markdown",
   "id": "9e0309c5",
   "metadata": {
    "deletable": false,
    "editable": false
   },
   "source": [
    "There is no a clear correlation between any of variables on this dataset. The greatest one is between the IMDB score and Average User Rating. There is an apparent consistency on movie users ratings, independent of the platform.         "
   ]
  },
  {
   "cell_type": "code",
   "execution_count": 139,
   "id": "02e72801",
   "metadata": {
    "deletable": false,
    "editable": false
   },
   "outputs": [
    {
     "data": {
      "image/png": "[encoded data removed]",
      "text/plain": [
       "<Figure size 1440x360 with 1 Axes>"
      ]
     },
     "metadata": {
      "needs_background": "light"
     },
     "output_type": "display_data"
    }
   ],
   "source": [
    "# Scatter plot of IMDB score and Gross Earnings to understand deeper its relationship\n",
    "\n",
    "sns.lmplot ( x = 'imdb_score',\n",
    "             y = 'gross_earnings',\n",
    "             hue        = None,\n",
    "             scatter    = True, \n",
    "             fit_reg    = True, \n",
    "             aspect     = 4, \n",
    "             data       = movies_da_dropped)\n",
    "\n",
    "\n",
    "# looping over the x-range to save time\n",
    "value = 0.5\n",
    "\n",
    "\n",
    "# looping over the x-range\n",
    "while value < 9:\n",
    "    \n",
    "    # making a vertical line\n",
    "    plt.axvline(x = value, color = \"red\", linestyle = '--')\n",
    "    \n",
    "    \n",
    "    # incrementing value in one-quarter increments\n",
    "    value += 0.5\n",
    "\n",
    "\n",
    "# formatting and displaying the plot\n",
    "plt.title       (label  = 'IMDB and Gross Earnings\\n')\n",
    "plt.xlabel      (xlabel = 'IMDB Score'               )\n",
    "plt.ylabel      (ylabel = 'Gross Earnings'           )\n",
    "plt.xlim        (left   = 1.5, right = 9             )\n",
    "plt.tight_layout(pad    = 0.75                       )\n",
    "plt.show        (block  = True                       )\n",
    "\n",
    "\n",
    "\n",
    "#Showing the plot\n",
    "plt.show(block  = True)\n"
   ]
  },
  {
   "cell_type": "code",
   "execution_count": 141,
   "id": "3007831d",
   "metadata": {
    "deletable": false,
    "editable": false
   },
   "outputs": [
    {
     "data": {
      "image/png": "[encoded data removed]",
      "text/plain": [
       "<Figure size 1440x360 with 1 Axes>"
      ]
     },
     "metadata": {
      "needs_background": "light"
     },
     "output_type": "display_data"
    },
    {
     "data": {
      "text/plain": [
       "<Figure size 432x288 with 0 Axes>"
      ]
     },
     "metadata": {},
     "output_type": "display_data"
    }
   ],
   "source": [
    "# Scatter plot of Gross Earnings and Number of User Votes to understand deeper its relationship\n",
    "\n",
    "sns.lmplot ( x = 'average_user_rating',\n",
    "             y = 'gross_earnings',\n",
    "             hue        = None,\n",
    "             scatter    = True, \n",
    "             fit_reg    = True, \n",
    "             aspect     = 4, \n",
    "             data       = movies_da_dropped)\n",
    "\n",
    "# looping over the x-range to save time\n",
    "value = 1\n",
    "\n",
    "\n",
    "# looping over the x-range\n",
    "while value < 9:\n",
    "    \n",
    "    # making a vertical line\n",
    "    plt.axvline(x = value, color = \"red\", linestyle = '--')\n",
    "    \n",
    "    \n",
    "    # incrementing value in one-quarter increments\n",
    "    value += 1\n",
    "\n",
    "plt.title       (label  = 'Average User Rating and Gross Earnings\\n')\n",
    "plt.xlabel      (xlabel = 'Average User Rating'                     )\n",
    "plt.ylabel      (ylabel = 'Gross Earnings'                          )\n",
    "plt.xlim        (left   = 1.5, right = 9                            )\n",
    "plt.tight_layout(pad    = 0.75                                      )\n",
    "plt.show        (block  = True                                      )\n",
    "\n",
    "plt.tight_layout(pad    = 1)\n",
    "\n",
    "#Showing the plot\n",
    "plt.show(block  = True)"
   ]
  },
  {
   "cell_type": "markdown",
   "id": "4b750dea",
   "metadata": {
    "deletable": false,
    "editable": false
   },
   "source": [
    "It appears that there is a positive correlation, for both IMDB score and Average User Rating, with the gross earnings a movie generates. However, this correlation is not as direct as one could thought. There is a lot of deviation, and we can infer the profitability of a movie is dictated for other factors that are not observable here."
   ]
  },
  {
   "cell_type": "markdown",
   "id": "c2f1e6a6",
   "metadata": {},
   "source": [
    "# Entering our genre: Crime"
   ]
  },
  {
   "cell_type": "markdown",
   "id": "18dafc1d",
   "metadata": {},
   "source": [
    "## Introduction"
   ]
  },
  {
   "cell_type": "markdown",
   "id": "65760550",
   "metadata": {
    "deletable": false,
    "editable": false
   },
   "source": [
    "A Crime film is a genre that revolves around the action of a criminal mastermind. A Crime film will often revolve around the criminal himself, chronicling his rise and fall. Some Crime films will have a storyline that follows the criminal's victim, yet others follow the person in pursuit of the criminal.\n",
    "\n",
    "Some characteristics of a Crime movie could include the following aspects, according to \n",
    "\n",
    "1. A significant crime is perhaps the key to any good crime story. The crime is what propels the story forward. \n",
    "\n",
    "2. The hero (or heroes) of the crime story is the protagonist. The hero does not have to be likeable but does have to be interesting and intelligent enough to figure out clues and move the story along.\n",
    "\n",
    "3. The suspects of the crime story are relevant to the story's suspense and intrigue. \n",
    "\n",
    "4. The criminal is essential to any good crime fiction. The criminal has to be well matched against his or her opponent - the story's hero. \n",
    "\n",
    "5. A realistic or believable story is also necessary to make crime fiction worth watching. \n",
    "\n"
   ]
  },
  {
   "cell_type": "markdown",
   "id": "3de0ff50",
   "metadata": {},
   "source": [
    "## Dataset descriptive stats for Crime"
   ]
  },
  {
   "cell_type": "code",
   "execution_count": 128,
   "id": "b51c2bb2",
   "metadata": {
    "deletable": false,
    "editable": false
   },
   "outputs": [
    {
     "data": {
      "text/html": [
       "<div>\n",
       "<style scoped>\n",
       "    .dataframe tbody tr th:only-of-type {\n",
       "        vertical-align: middle;\n",
       "    }\n",
       "\n",
       "    .dataframe tbody tr th {\n",
       "        vertical-align: top;\n",
       "    }\n",
       "\n",
       "    .dataframe thead th {\n",
       "        text-align: right;\n",
       "    }\n",
       "</style>\n",
       "<table border=\"1\" class=\"dataframe\">\n",
       "  <thead>\n",
       "    <tr style=\"text-align: right;\">\n",
       "      <th></th>\n",
       "      <th>title</th>\n",
       "      <th>genre</th>\n",
       "      <th>release_year</th>\n",
       "      <th>country</th>\n",
       "      <th>runtime</th>\n",
       "      <th>language</th>\n",
       "      <th>rating</th>\n",
       "      <th>gross_earnings</th>\n",
       "      <th>budget</th>\n",
       "      <th>imdb_score</th>\n",
       "      <th>average_user_rating</th>\n",
       "      <th>num_user_votes</th>\n",
       "    </tr>\n",
       "  </thead>\n",
       "  <tbody>\n",
       "    <tr>\n",
       "      <th>9</th>\n",
       "      <td>West Side Story</td>\n",
       "      <td>Crime, Musical</td>\n",
       "      <td>1961</td>\n",
       "      <td>USA</td>\n",
       "      <td>152</td>\n",
       "      <td>English</td>\n",
       "      <td>Unrated</td>\n",
       "      <td>43650000</td>\n",
       "      <td>6000000</td>\n",
       "      <td>7.6</td>\n",
       "      <td>7.5</td>\n",
       "      <td>98217.0</td>\n",
       "    </tr>\n",
       "    <tr>\n",
       "      <th>21</th>\n",
       "      <td>Mississippi Mermaid</td>\n",
       "      <td>Crime, Romance</td>\n",
       "      <td>1969</td>\n",
       "      <td>France</td>\n",
       "      <td>123</td>\n",
       "      <td>French</td>\n",
       "      <td>R</td>\n",
       "      <td>26893</td>\n",
       "      <td>1600000</td>\n",
       "      <td>7.2</td>\n",
       "      <td>7.0</td>\n",
       "      <td>6092.0</td>\n",
       "    </tr>\n",
       "    <tr>\n",
       "      <th>27</th>\n",
       "      <td>Sweet Sweetback's Baadasssss Song</td>\n",
       "      <td>Action, Crime</td>\n",
       "      <td>1971</td>\n",
       "      <td>USA</td>\n",
       "      <td>97</td>\n",
       "      <td>English</td>\n",
       "      <td>R</td>\n",
       "      <td>15180000</td>\n",
       "      <td>500000</td>\n",
       "      <td>5.5</td>\n",
       "      <td>5.5</td>\n",
       "      <td>4668.0</td>\n",
       "    </tr>\n",
       "    <tr>\n",
       "      <th>28</th>\n",
       "      <td>Pink Flamingos</td>\n",
       "      <td>Comedy, Crime</td>\n",
       "      <td>1972</td>\n",
       "      <td>USA</td>\n",
       "      <td>108</td>\n",
       "      <td>English</td>\n",
       "      <td>NC-17</td>\n",
       "      <td>180483</td>\n",
       "      <td>10000</td>\n",
       "      <td>6.1</td>\n",
       "      <td>6.1</td>\n",
       "      <td>22301.0</td>\n",
       "    </tr>\n",
       "    <tr>\n",
       "      <th>30</th>\n",
       "      <td>The Sting</td>\n",
       "      <td>Comedy, Crime</td>\n",
       "      <td>1973</td>\n",
       "      <td>USA</td>\n",
       "      <td>129</td>\n",
       "      <td>English</td>\n",
       "      <td>PG</td>\n",
       "      <td>159600000</td>\n",
       "      <td>5500000</td>\n",
       "      <td>8.3</td>\n",
       "      <td>8.3</td>\n",
       "      <td>244313.0</td>\n",
       "    </tr>\n",
       "    <tr>\n",
       "      <th>...</th>\n",
       "      <td>...</td>\n",
       "      <td>...</td>\n",
       "      <td>...</td>\n",
       "      <td>...</td>\n",
       "      <td>...</td>\n",
       "      <td>...</td>\n",
       "      <td>...</td>\n",
       "      <td>...</td>\n",
       "      <td>...</td>\n",
       "      <td>...</td>\n",
       "      <td>...</td>\n",
       "      <td>...</td>\n",
       "    </tr>\n",
       "    <tr>\n",
       "      <th>1620</th>\n",
       "      <td>Run All Night</td>\n",
       "      <td>Action, Crime</td>\n",
       "      <td>2015</td>\n",
       "      <td>USA</td>\n",
       "      <td>114</td>\n",
       "      <td>English</td>\n",
       "      <td>R</td>\n",
       "      <td>26442251</td>\n",
       "      <td>50000000</td>\n",
       "      <td>6.6</td>\n",
       "      <td>6.6</td>\n",
       "      <td>103267.0</td>\n",
       "    </tr>\n",
       "    <tr>\n",
       "      <th>1629</th>\n",
       "      <td>The Assassin</td>\n",
       "      <td>Crime, Mystery</td>\n",
       "      <td>2015</td>\n",
       "      <td>Taiwan</td>\n",
       "      <td>105</td>\n",
       "      <td>Mandarin</td>\n",
       "      <td>Not Rated</td>\n",
       "      <td>613556</td>\n",
       "      <td>15000000</td>\n",
       "      <td>6.4</td>\n",
       "      <td>6.3</td>\n",
       "      <td>421.0</td>\n",
       "    </tr>\n",
       "    <tr>\n",
       "      <th>1633</th>\n",
       "      <td>The Hateful Eight</td>\n",
       "      <td>Crime, Mystery</td>\n",
       "      <td>2015</td>\n",
       "      <td>USA</td>\n",
       "      <td>187</td>\n",
       "      <td>English</td>\n",
       "      <td>R</td>\n",
       "      <td>54116191</td>\n",
       "      <td>44000000</td>\n",
       "      <td>7.9</td>\n",
       "      <td>7.8</td>\n",
       "      <td>527480.0</td>\n",
       "    </tr>\n",
       "    <tr>\n",
       "      <th>1660</th>\n",
       "      <td>Money Monster</td>\n",
       "      <td>Crime, Mystery</td>\n",
       "      <td>2016</td>\n",
       "      <td>USA</td>\n",
       "      <td>98</td>\n",
       "      <td>English</td>\n",
       "      <td>R</td>\n",
       "      <td>41008532</td>\n",
       "      <td>27000000</td>\n",
       "      <td>6.7</td>\n",
       "      <td>6.5</td>\n",
       "      <td>95502.0</td>\n",
       "    </tr>\n",
       "    <tr>\n",
       "      <th>1674</th>\n",
       "      <td>Triple 9</td>\n",
       "      <td>Action, Crime</td>\n",
       "      <td>2016</td>\n",
       "      <td>USA</td>\n",
       "      <td>115</td>\n",
       "      <td>English</td>\n",
       "      <td>R</td>\n",
       "      <td>12626905</td>\n",
       "      <td>20000000</td>\n",
       "      <td>6.3</td>\n",
       "      <td>6.3</td>\n",
       "      <td>67859.0</td>\n",
       "    </tr>\n",
       "  </tbody>\n",
       "</table>\n",
       "<p>288 rows × 12 columns</p>\n",
       "</div>"
      ],
      "text/plain": [
       "                                  title           genre  release_year country  \\\n",
       "9                       West Side Story  Crime, Musical          1961     USA   \n",
       "21                  Mississippi Mermaid  Crime, Romance          1969  France   \n",
       "27    Sweet Sweetback's Baadasssss Song   Action, Crime          1971     USA   \n",
       "28                       Pink Flamingos   Comedy, Crime          1972     USA   \n",
       "30                            The Sting   Comedy, Crime          1973     USA   \n",
       "...                                 ...             ...           ...     ...   \n",
       "1620                      Run All Night   Action, Crime          2015     USA   \n",
       "1629                       The Assassin  Crime, Mystery          2015  Taiwan   \n",
       "1633                  The Hateful Eight  Crime, Mystery          2015     USA   \n",
       "1660                      Money Monster  Crime, Mystery          2016     USA   \n",
       "1674                           Triple 9   Action, Crime          2016     USA   \n",
       "\n",
       "      runtime  language     rating  gross_earnings    budget  imdb_score  \\\n",
       "9         152   English    Unrated        43650000   6000000         7.6   \n",
       "21        123    French          R           26893   1600000         7.2   \n",
       "27         97   English          R        15180000    500000         5.5   \n",
       "28        108   English      NC-17          180483     10000         6.1   \n",
       "30        129   English         PG       159600000   5500000         8.3   \n",
       "...       ...       ...        ...             ...       ...         ...   \n",
       "1620      114   English          R        26442251  50000000         6.6   \n",
       "1629      105  Mandarin  Not Rated          613556  15000000         6.4   \n",
       "1633      187   English          R        54116191  44000000         7.9   \n",
       "1660       98   English          R        41008532  27000000         6.7   \n",
       "1674      115   English          R        12626905  20000000         6.3   \n",
       "\n",
       "      average_user_rating  num_user_votes  \n",
       "9                     7.5         98217.0  \n",
       "21                    7.0          6092.0  \n",
       "27                    5.5          4668.0  \n",
       "28                    6.1         22301.0  \n",
       "30                    8.3        244313.0  \n",
       "...                   ...             ...  \n",
       "1620                  6.6        103267.0  \n",
       "1629                  6.3           421.0  \n",
       "1633                  7.8        527480.0  \n",
       "1660                  6.5         95502.0  \n",
       "1674                  6.3         67859.0  \n",
       "\n",
       "[288 rows x 12 columns]"
      ]
     },
     "execution_count": 128,
     "metadata": {},
     "output_type": "execute_result"
    }
   ],
   "source": [
    "# creating a variable to group movies inside the \"Crime\" genre.\n",
    "movies_da_crime = movies_da_dropped[movies_da_dropped['genre'].str.contains('Crime')]\n",
    "movies_da_crime"
   ]
  },
  {
   "cell_type": "code",
   "execution_count": 131,
   "id": "4f2f37a2",
   "metadata": {
    "deletable": false,
    "editable": false
   },
   "outputs": [
    {
     "data": {
      "text/plain": [
       "288"
      ]
     },
     "execution_count": 131,
     "metadata": {},
     "output_type": "execute_result"
    }
   ],
   "source": [
    "movies_da_crime['title'].count()"
   ]
  },
  {
   "cell_type": "code",
   "execution_count": 100,
   "id": "20aeb97a",
   "metadata": {
    "deletable": false,
    "editable": false
   },
   "outputs": [
    {
     "data": {
      "text/plain": [
       "Action, Crime      103\n",
       "Comedy, Crime      100\n",
       "Crime, Thriller     36\n",
       "Crime, Mystery      19\n",
       "Crime, Romance      11\n",
       "Crime, Horror        7\n",
       "Crime, Music         5\n",
       "Crime, Musical       4\n",
       "Crime, History       3\n",
       "Name: genre, dtype: int64"
      ]
     },
     "execution_count": 100,
     "metadata": {},
     "output_type": "execute_result"
    }
   ],
   "source": [
    "movies_da_crime['genre'].value_counts(normalize = False , \n",
    "                                      sort      = True  , \n",
    "                                      ascending = False ) "
   ]
  },
  {
   "cell_type": "markdown",
   "id": "c02adf73",
   "metadata": {
    "deletable": false,
    "editable": false
   },
   "source": [
    "Its noticeable that Action and Comedy are by far, the favorite co-genres when it comes to a Crime movie."
   ]
  },
  {
   "cell_type": "code",
   "execution_count": 194,
   "id": "52f2a394",
   "metadata": {
    "deletable": false,
    "editable": false
   },
   "outputs": [
    {
     "data": {
      "text/plain": [
       "English     0.972222\n",
       "French      0.013889\n",
       "Spanish     0.006944\n",
       "German      0.003472\n",
       "Mandarin    0.003472\n",
       "Name: language, dtype: float64"
      ]
     },
     "execution_count": 194,
     "metadata": {},
     "output_type": "execute_result"
    }
   ],
   "source": [
    "# understanding how are splitted the movies by 'language'\n",
    "\n",
    "movies_da_crime['language'].value_counts(normalize = True , \n",
    "                                         sort      = True , \n",
    "                                         ascending = False)"
   ]
  },
  {
   "cell_type": "code",
   "execution_count": 196,
   "id": "425c5477",
   "metadata": {
    "deletable": false,
    "editable": false
   },
   "outputs": [
    {
     "data": {
      "text/plain": [
       "2001    22\n",
       "2002    17\n",
       "2008    17\n",
       "1999    16\n",
       "2006    16\n",
       "1998    15\n",
       "2013    15\n",
       "2000    15\n",
       "2005    14\n",
       "2009    12\n",
       "2004    12\n",
       "2012    10\n",
       "2010    10\n",
       "1997     9\n",
       "2003     9\n",
       "1996     8\n",
       "2011     8\n",
       "2014     8\n",
       "1995     7\n",
       "1993     7\n",
       "2007     7\n",
       "1994     6\n",
       "2015     6\n",
       "1992     6\n",
       "2016     2\n",
       "1989     2\n",
       "1987     2\n",
       "1969     1\n",
       "1991     1\n",
       "1986     1\n",
       "1984     1\n",
       "1983     1\n",
       "1980     1\n",
       "1973     1\n",
       "1972     1\n",
       "1971     1\n",
       "1961     1\n",
       "Name: release_year, dtype: int64"
      ]
     },
     "execution_count": 196,
     "metadata": {},
     "output_type": "execute_result"
    }
   ],
   "source": [
    "# understanding how is splitted the movies by ''the main' genre.\n",
    "\n",
    "movies_da_crime['release_year'].value_counts(normalize = False , \n",
    "                                             sort      = True , \n",
    "                                             ascending = False)"
   ]
  },
  {
   "cell_type": "code",
   "execution_count": 101,
   "id": "fe26439e",
   "metadata": {
    "deletable": false,
    "editable": false,
    "scrolled": true
   },
   "outputs": [
    {
     "data": {
      "text/html": [
       "<div>\n",
       "<style scoped>\n",
       "    .dataframe tbody tr th:only-of-type {\n",
       "        vertical-align: middle;\n",
       "    }\n",
       "\n",
       "    .dataframe tbody tr th {\n",
       "        vertical-align: top;\n",
       "    }\n",
       "\n",
       "    .dataframe thead th {\n",
       "        text-align: right;\n",
       "    }\n",
       "</style>\n",
       "<table border=\"1\" class=\"dataframe\">\n",
       "  <thead>\n",
       "    <tr style=\"text-align: right;\">\n",
       "      <th></th>\n",
       "      <th>release_year</th>\n",
       "      <th>runtime</th>\n",
       "      <th>gross_earnings</th>\n",
       "      <th>budget</th>\n",
       "      <th>imdb_score</th>\n",
       "      <th>average_user_rating</th>\n",
       "      <th>num_user_votes</th>\n",
       "    </tr>\n",
       "  </thead>\n",
       "  <tbody>\n",
       "    <tr>\n",
       "      <th>count</th>\n",
       "      <td>288.00</td>\n",
       "      <td>288.00</td>\n",
       "      <td>2.880000e+02</td>\n",
       "      <td>2.880000e+02</td>\n",
       "      <td>288.00</td>\n",
       "      <td>288.00</td>\n",
       "      <td>288.00</td>\n",
       "    </tr>\n",
       "    <tr>\n",
       "      <th>mean</th>\n",
       "      <td>2002.69</td>\n",
       "      <td>107.82</td>\n",
       "      <td>3.203425e+07</td>\n",
       "      <td>2.755279e+07</td>\n",
       "      <td>6.38</td>\n",
       "      <td>6.34</td>\n",
       "      <td>102758.57</td>\n",
       "    </tr>\n",
       "    <tr>\n",
       "      <th>std</th>\n",
       "      <td>8.14</td>\n",
       "      <td>16.46</td>\n",
       "      <td>3.637841e+07</td>\n",
       "      <td>2.387357e+07</td>\n",
       "      <td>0.99</td>\n",
       "      <td>0.99</td>\n",
       "      <td>182582.31</td>\n",
       "    </tr>\n",
       "    <tr>\n",
       "      <th>min</th>\n",
       "      <td>1961.00</td>\n",
       "      <td>78.00</td>\n",
       "      <td>3.607000e+03</td>\n",
       "      <td>7.000000e+03</td>\n",
       "      <td>2.40</td>\n",
       "      <td>2.50</td>\n",
       "      <td>9.00</td>\n",
       "    </tr>\n",
       "    <tr>\n",
       "      <th>25%</th>\n",
       "      <td>1998.75</td>\n",
       "      <td>96.00</td>\n",
       "      <td>6.047046e+06</td>\n",
       "      <td>9.750000e+06</td>\n",
       "      <td>5.90</td>\n",
       "      <td>5.80</td>\n",
       "      <td>12362.25</td>\n",
       "    </tr>\n",
       "    <tr>\n",
       "      <th>50%</th>\n",
       "      <td>2003.00</td>\n",
       "      <td>105.00</td>\n",
       "      <td>1.956891e+07</td>\n",
       "      <td>2.000000e+07</td>\n",
       "      <td>6.40</td>\n",
       "      <td>6.45</td>\n",
       "      <td>43262.00</td>\n",
       "    </tr>\n",
       "    <tr>\n",
       "      <th>75%</th>\n",
       "      <td>2008.00</td>\n",
       "      <td>116.25</td>\n",
       "      <td>4.288765e+07</td>\n",
       "      <td>3.850000e+07</td>\n",
       "      <td>7.00</td>\n",
       "      <td>6.90</td>\n",
       "      <td>110973.25</td>\n",
       "    </tr>\n",
       "    <tr>\n",
       "      <th>max</th>\n",
       "      <td>2016.00</td>\n",
       "      <td>190.00</td>\n",
       "      <td>1.834058e+08</td>\n",
       "      <td>1.400000e+08</td>\n",
       "      <td>8.60</td>\n",
       "      <td>8.60</td>\n",
       "      <td>1468725.00</td>\n",
       "    </tr>\n",
       "  </tbody>\n",
       "</table>\n",
       "</div>"
      ],
      "text/plain": [
       "       release_year  runtime  gross_earnings        budget  imdb_score  \\\n",
       "count        288.00   288.00    2.880000e+02  2.880000e+02      288.00   \n",
       "mean        2002.69   107.82    3.203425e+07  2.755279e+07        6.38   \n",
       "std            8.14    16.46    3.637841e+07  2.387357e+07        0.99   \n",
       "min         1961.00    78.00    3.607000e+03  7.000000e+03        2.40   \n",
       "25%         1998.75    96.00    6.047046e+06  9.750000e+06        5.90   \n",
       "50%         2003.00   105.00    1.956891e+07  2.000000e+07        6.40   \n",
       "75%         2008.00   116.25    4.288765e+07  3.850000e+07        7.00   \n",
       "max         2016.00   190.00    1.834058e+08  1.400000e+08        8.60   \n",
       "\n",
       "       average_user_rating  num_user_votes  \n",
       "count               288.00          288.00  \n",
       "mean                  6.34       102758.57  \n",
       "std                   0.99       182582.31  \n",
       "min                   2.50            9.00  \n",
       "25%                   5.80        12362.25  \n",
       "50%                   6.45        43262.00  \n",
       "75%                   6.90       110973.25  \n",
       "max                   8.60      1468725.00  "
      ]
     },
     "execution_count": 101,
     "metadata": {},
     "output_type": "execute_result"
    }
   ],
   "source": [
    "# Analyzing the descriptive of Crime movies\n",
    "movies_da_crime.describe().round(decimals = 2)"
   ]
  },
  {
   "cell_type": "markdown",
   "id": "238c4443",
   "metadata": {
    "deletable": false,
    "editable": false
   },
   "source": [
    "We are including every crime movie in its descriptive analysis. There are 288 movies in this data set. Most of them (97%) were filmed in English. The 2000s were ab important era for Crime movies. Normally, a Crime movie last around 108 minutes, being shorter than the average of all genres, 110 minutes. The likeliness is close to 6.4, slightly lower that all genres movies."
   ]
  },
  {
   "cell_type": "markdown",
   "id": "5336ef03",
   "metadata": {},
   "source": [
    "## Insights for Crime movies"
   ]
  },
  {
   "cell_type": "markdown",
   "id": "3c747e64",
   "metadata": {
    "deletable": false,
    "editable": false
   },
   "source": [
    "We are going to analyze the comparison of IMDB scores and Average User Ratings between Crime movies and all genres movies."
   ]
  },
  {
   "cell_type": "code",
   "execution_count": 111,
   "id": "e1ce9db5",
   "metadata": {
    "deletable": false,
    "editable": false
   },
   "outputs": [
    {
     "name": "stdout",
     "output_type": "stream",
     "text": [
      "The average IMDB Score for crime movies: 6.38\n",
      "The average IMDB Score for all movies: 6.45\n",
      "\n",
      "\n"
     ]
    }
   ],
   "source": [
    "# How does your movie genre compare to the other genres in the dataset?\n",
    "\n",
    "\n",
    "avg_imdb_crime = round(movies_da_crime['imdb_score'].mean(), ndigits = 2)\n",
    "avg_avg_user_crime = round(movies_da_crime['average_user_rating'].mean(), ndigits = 2)\n",
    "\n",
    "print(f\"\"\"The average IMDB Score for crime movies: {avg_imdb_crime}\n",
    "The average IMDB Score for all movies: {avg_imdb_movies}\n",
    "\\n\"\"\")\n"
   ]
  },
  {
   "cell_type": "code",
   "execution_count": 112,
   "id": "cff52eb0",
   "metadata": {
    "deletable": false,
    "editable": false
   },
   "outputs": [
    {
     "name": "stdout",
     "output_type": "stream",
     "text": [
      "The average User Rating Score for crime movies: 6.34\n",
      "The average User Rating Score for all movies: 6.41\n",
      "\n",
      "\n"
     ]
    }
   ],
   "source": [
    "avg_imdb_movies = round(movies_da_dropped['imdb_score'].mean(), ndigits = 2)\n",
    "avg_user_movies = round(movies_da_dropped['average_user_rating'].mean(), ndigits = 2)\n",
    "\n",
    "print(f\"\"\"The average User Rating Score for crime movies: {avg_avg_user_crime}\n",
    "The average User Rating Score for all movies: {avg_user_movies}\n",
    "\\n\"\"\")"
   ]
  },
  {
   "cell_type": "code",
   "execution_count": 197,
   "id": "a4bc3712",
   "metadata": {
    "deletable": false,
    "editable": false
   },
   "outputs": [
    {
     "name": "stdout",
     "output_type": "stream",
     "text": [
      "The relation between Gross Earnings and Budget for crime movies: 1.16\n",
      "The relation between Gross Earnings and Budget for all movies: 1.04\n",
      "\n"
     ]
    }
   ],
   "source": [
    "# comparing earnings per budget, creating a relation metric, to understand the return of investment.\n",
    "\n",
    "average_budget_crime = round(movies_da_crime['budget'].mean(), ndigits = 2)\n",
    "average_budget_movies = round(df_dropped['budget'].mean(), ndigits = 2)\n",
    "average_gross_earn_crime = round(movies_da_crime['gross_earnings'].mean(), ndigits = 2)\n",
    "average_gross_earn_movies = round(movies_da_dropped['gross_earnings'].mean(), ndigits = 2)\n",
    "\n",
    "gross_earn_budget_ratio_crime = round(avg_gross_earn_crime / avg_budget_crime, ndigits = 2) # greater earnings\n",
    "gross_earn_budget_ratio_movies = round(avg_gross_earn_movies / avg_budget_movies, ndigits = 2)\n",
    "\n",
    "print(f\"\"\"The relation between Gross Earnings and Budget for crime movies: {gross_earn_budget_ratio_crime}\n",
    "The relation between Gross Earnings and Budget for all movies: {gross_earn_budget_ratio_movies}\n",
    "\"\"\")\n"
   ]
  },
  {
   "cell_type": "code",
   "execution_count": 198,
   "id": "d909619a",
   "metadata": {},
   "outputs": [
    {
     "data": {
      "text/plain": [
       "1.1153846153846152"
      ]
     },
     "execution_count": 198,
     "metadata": {},
     "output_type": "execute_result"
    }
   ],
   "source": [
    "gross_earn_budget_ratio_crime / gross_earn_budget_ratio_movies"
   ]
  },
  {
   "cell_type": "markdown",
   "id": "77f3c447",
   "metadata": {
    "deletable": false,
    "editable": false
   },
   "source": [
    "- The relation between the average rating provided by movies consumers for Crime movies and all-genre movies are quite similar, all close to 6.4. There is even a slight difference in favor or all-genre movies.\n",
    "\n",
    "- There is a bigger return of investment for Crime movies in comparison with all-genres movies. It is 11.5% higher.\n",
    "\n",
    "- The 2000s were the decade where more of the Crime movies were produced. Most of them were based on True Stories, what appears to be very appealing to the spectators."
   ]
  },
  {
   "cell_type": "markdown",
   "id": "36a00003",
   "metadata": {
    "deletable": false,
    "editable": false
   },
   "source": [
    "## Conclusions"
   ]
  },
  {
   "cell_type": "markdown",
   "id": "11327bf4",
   "metadata": {
    "deletable": false,
    "editable": false
   },
   "source": [
    "In most years, around 20 per cent of all films are crime movies, and around half of all films have significant crime content.\n",
    "\n",
    "A 2013 report from the American Academy of Pediatrics found that violence in films has more than doubled since 1950, and gun violence in PG-13-rated films has more than tripled since 1985. The Harvard School of Public Health warned that \"ratings creep\" has allowed more violent and sexually explicit content into films.\n",
    "\n",
    "\n",
    "The popularity of true crime dramas is not only because we want to understand what happened and why it happened, it's also because people don't want to be seen as missing out on a huge new drama that we know everyone will be watching.\n",
    "\n",
    "\n",
    "Seeing violence allows us to reflect on the human condition, an experience we value. Other theories are also out there. “Excitation transfer theory” suggests that watching violence makes us aroused, a feeling that persists until the end of the show, making the end feel more pleasing.\n",
    "\n"
   ]
  },
  {
   "cell_type": "markdown",
   "id": "bca520d4",
   "metadata": {},
   "source": [
    "# References"
   ]
  },
  {
   "cell_type": "markdown",
   "id": "023576b1",
   "metadata": {
    "deletable": false,
    "editable": false
   },
   "source": [
    "American Academy of Pediatrics (2013)\n",
    "\n",
    "https://theconversation.com/from-tarantino-to-squid-game-why-do-so-many-people-enjoy-violence-170251"
   ]
  }
 ],
 "metadata": {
  "kernelspec": {
   "display_name": "Python 3 (ipykernel)",
   "language": "python",
   "name": "python3"
  },
  "language_info": {
   "codemirror_mode": {
    "name": "ipython",
    "version": 3
   },
   "file_extension": ".py",
   "mimetype": "text/x-python",
   "name": "python",
   "nbconvert_exporter": "python",
   "pygments_lexer": "ipython3",
   "version": "3.9.12"
  },
  "toc": {
   "base_numbering": 1,
   "nav_menu": {},
   "number_sections": true,
   "sideBar": true,
   "skip_h1_title": false,
   "title_cell": "Table of Contents",
   "title_sidebar": "Contents",
   "toc_cell": false,
   "toc_position": {},
   "toc_section_display": true,
   "toc_window_display": false
  },
  "varInspector": {
   "cols": {
    "lenName": 16,
    "lenType": 16,
    "lenVar": 40
   },
   "kernels_config": {
    "python": {
     "delete_cmd_postfix": "",
     "delete_cmd_prefix": "del ",
     "library": "var_list.py",
     "varRefreshCmd": "print(var_dic_list())"
    },
    "r": {
     "delete_cmd_postfix": ") ",
     "delete_cmd_prefix": "rm(",
     "library": "var_list.r",
     "varRefreshCmd": "cat(var_dic_list()) "
    }
   },
   "types_to_exclude": [
    "module",
    "function",
    "builtin_function_or_method",
    "instance",
    "_Feature"
   ],
   "window_display": false
  }
 },
 "nbformat": 4,
 "nbformat_minor": 5
}
